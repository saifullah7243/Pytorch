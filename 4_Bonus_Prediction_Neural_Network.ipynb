{
  "nbformat": 4,
  "nbformat_minor": 0,
  "metadata": {
    "colab": {
      "provenance": []
    },
    "kernelspec": {
      "name": "python3",
      "display_name": "Python 3"
    },
    "language_info": {
      "name": "python"
    }
  },
  "cells": [
    {
      "cell_type": "code",
      "execution_count": 43,
      "metadata": {
        "id": "uJQnMLEIoaaw"
      },
      "outputs": [],
      "source": [
        "import pandas as pd\n",
        "import torch\n",
        "import torch.nn as nn\n",
        "import torch.optim as optim\n",
        "from sklearn.model_selection import train_test_split\n",
        "from sklearn.preprocessing import StandardScaler"
      ]
    },
    {
      "cell_type": "code",
      "source": [
        "# 1. Load the dataset\n",
        "df = pd.read_csv('data.csv')\n",
        "print(df.head())"
      ],
      "metadata": {
        "id": "CIPHhMjJposN",
        "colab": {
          "base_uri": "https://localhost:8080/"
        },
        "outputId": "32e3da06-988e-4aa9-d042-a7625f644356"
      },
      "execution_count": 44,
      "outputs": [
        {
          "output_type": "stream",
          "name": "stdout",
          "text": [
            "  employee_id  performance  years_of_experience  projects_completed  bonus\n",
            "0     EMP_001            7                    2                   4    124\n",
            "1     EMP_002            4                    1                   4     82\n",
            "2     EMP_003            8                    7                  10    178\n",
            "3     EMP_004            5                    7                   8    138\n",
            "4     EMP_005            7                    8                   9    170\n"
          ]
        }
      ]
    },
    {
      "cell_type": "code",
      "source": [
        "# 2. Define Features and Target\n",
        "X = df[[\"performance\", \"years_of_experience\", \"projects_completed\"]].values\n",
        "y = df[[\"bonus\"]].values  # Make sure y is 2D for scaling"
      ],
      "metadata": {
        "id": "1os4xBm2Z1WM"
      },
      "execution_count": 45,
      "outputs": []
    },
    {
      "cell_type": "code",
      "source": [
        "# 3. Scale the data\n",
        "scaler_X = StandardScaler()\n",
        "scaler_y = StandardScaler()\n",
        "\n",
        "X_scaled = scaler_X.fit_transform(X)\n",
        "y_scaled = scaler_y.fit_transform(y)"
      ],
      "metadata": {
        "id": "NyGUVP7rZ4qK"
      },
      "execution_count": 46,
      "outputs": []
    },
    {
      "cell_type": "code",
      "source": [
        "# 4. Split into training and test sets\n",
        "X_train, X_test, y_train, y_test = train_test_split(X_scaled, y_scaled, test_size=0.2, random_state=0)"
      ],
      "metadata": {
        "id": "JchdLHg8Z7nC"
      },
      "execution_count": 47,
      "outputs": []
    },
    {
      "cell_type": "code",
      "source": [
        "# 5. Convert to PyTorch tensors\n",
        "X_train_tensor = torch.tensor(X_train, dtype=torch.float32)\n",
        "y_train_tensor = torch.tensor(y_train, dtype=torch.float32)\n",
        "X_test_tensor = torch.tensor(X_test, dtype=torch.float32)\n",
        "y_test_tensor = torch.tensor(y_test, dtype=torch.float32)"
      ],
      "metadata": {
        "id": "EeGeJfktZ9hY"
      },
      "execution_count": 48,
      "outputs": []
    },
    {
      "cell_type": "code",
      "source": [
        "# 6. Define the model\n",
        "class BonusPrediction(nn.Module):\n",
        "    def __init__(self):\n",
        "        super().__init__()\n",
        "        self.network = nn.Sequential(\n",
        "            nn.Linear(3, 1)\n",
        "        )\n",
        "\n",
        "    def forward(self, x):\n",
        "        return self.network(x)\n",
        "\n",
        "model = BonusPrediction()\n",
        "criterion = nn.MSELoss()\n",
        "optimizer = optim.SGD(model.parameters(), lr=0.001)"
      ],
      "metadata": {
        "id": "d8A_xR7HaAjg"
      },
      "execution_count": 49,
      "outputs": []
    },
    {
      "cell_type": "code",
      "source": [
        "# 7. Training loop\n",
        "epochs = 1000\n",
        "for epoch in range(epochs):\n",
        "    # Forward pass\n",
        "    y_pred = model(X_train_tensor)\n",
        "    loss = criterion(y_pred, y_train_tensor)\n",
        "\n",
        "    # Backward pass\n",
        "    optimizer.zero_grad()\n",
        "    loss.backward()\n",
        "    optimizer.step()\n",
        "\n",
        "    # Print every 100 epochs\n",
        "    if (epoch + 1) % 100 == 0:\n",
        "        print(f'Epoch: [{epoch+1}/{epochs}], Loss: {loss.item():.4f}')"
      ],
      "metadata": {
        "colab": {
          "base_uri": "https://localhost:8080/"
        },
        "id": "Fr7mnt3aaEva",
        "outputId": "b71f1c79-fe05-419f-e66c-b9c66ca291ee"
      },
      "execution_count": 50,
      "outputs": [
        {
          "output_type": "stream",
          "name": "stdout",
          "text": [
            "Epoch: [100/1000], Loss: 1.1805\n",
            "Epoch: [200/1000], Loss: 1.0840\n",
            "Epoch: [300/1000], Loss: 1.0172\n",
            "Epoch: [400/1000], Loss: 0.9710\n",
            "Epoch: [500/1000], Loss: 0.9391\n",
            "Epoch: [600/1000], Loss: 0.9169\n",
            "Epoch: [700/1000], Loss: 0.9015\n",
            "Epoch: [800/1000], Loss: 0.8908\n",
            "Epoch: [900/1000], Loss: 0.8834\n",
            "Epoch: [1000/1000], Loss: 0.8783\n"
          ]
        }
      ]
    },
    {
      "cell_type": "code",
      "source": [
        "# 8. Evaluation\n",
        "model.eval()\n",
        "with torch.no_grad():\n",
        "    y_pred = model(X_test_tensor)\n",
        "    test_loss = criterion(y_pred, y_test_tensor)\n",
        "\n",
        "print(f'\\nTest Loss: {test_loss.item():.4f}')"
      ],
      "metadata": {
        "colab": {
          "base_uri": "https://localhost:8080/"
        },
        "id": "iHgYtDOVaJAl",
        "outputId": "5ed4df1f-0bdc-48e4-85b7-5303a06771f6"
      },
      "execution_count": 51,
      "outputs": [
        {
          "output_type": "stream",
          "name": "stdout",
          "text": [
            "\n",
            "Test Loss: 0.7862\n"
          ]
        }
      ]
    },
    {
      "cell_type": "code",
      "source": [
        "y_pred_original = scaler_y.inverse_transform(y_pred.numpy())\n",
        "y_test_original = scaler_y.inverse_transform(y_test_tensor.numpy())\n",
        "\n",
        "print(\"\\nPredicted Bonus (original scale):\")\n",
        "print(y_pred_original[:5])\n",
        "print(\"\\nActual Bonus (original scale):\")\n",
        "print(y_test_original[:5])\n"
      ],
      "metadata": {
        "colab": {
          "base_uri": "https://localhost:8080/"
        },
        "id": "vJm0AtuEZdUp",
        "outputId": "23a69a6a-de6f-482f-cb4b-b085d0454497"
      },
      "execution_count": 52,
      "outputs": [
        {
          "output_type": "stream",
          "name": "stdout",
          "text": [
            "\n",
            "Predicted Bonus (original scale):\n",
            "[[278.73685]\n",
            " [237.86403]\n",
            " [192.58945]\n",
            " [362.76752]\n",
            " [286.64008]]\n",
            "\n",
            "Actual Bonus (original scale):\n",
            "[[170.]\n",
            " [248.]\n",
            " [178.]\n",
            " [307.]\n",
            " [335.]]\n"
          ]
        }
      ]
    }
  ]
}